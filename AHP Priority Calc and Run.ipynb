{
 "cells": [
  {
   "cell_type": "code",
   "execution_count": 2,
   "metadata": {},
   "outputs": [],
   "source": [
    "import pandas as pd\n",
    "import numpy as np\n",
    "from pyanp import priority "
   ]
  },
  {
   "cell_type": "code",
   "execution_count": 3,
   "metadata": {},
   "outputs": [],
   "source": [
    "mat1 = priority.get_matrix(\"mat1.xlsx\")  # Imports simple pairwise actor comparisons on differing criteria"
   ]
  },
  {
   "cell_type": "code",
   "execution_count": 4,
   "metadata": {},
   "outputs": [
    {
     "data": {
      "text/plain": [
       "array([[1.        , 0.33333333, 0.14285714, 0.5       ],\n",
       "       [3.        , 1.        , 0.11111111, 3.        ],\n",
       "       [7.        , 9.        , 1.        , 9.        ],\n",
       "       [2.        , 0.33333333, 0.11111111, 1.        ]])"
      ]
     },
     "execution_count": 4,
     "metadata": {},
     "output_type": "execute_result"
    }
   ],
   "source": [
    "mat1"
   ]
  },
  {
   "cell_type": "code",
   "execution_count": 5,
   "metadata": {},
   "outputs": [
    {
     "data": {
      "text/plain": [
       "array([0.05750144, 0.14488138, 0.72338425, 0.07423294])"
      ]
     },
     "execution_count": 5,
     "metadata": {},
     "output_type": "execute_result"
    }
   ],
   "source": [
    "priority.pri_eigen(mat1)   # Pairwise Priority matrix "
   ]
  },
  {
   "cell_type": "markdown",
   "metadata": {},
   "source": [
    "#### Calculate the Eigenvalues"
   ]
  },
  {
   "cell_type": "code",
   "execution_count": 6,
   "metadata": {},
   "outputs": [
    {
     "data": {
      "text/plain": [
       "4.282541609285509"
      ]
     },
     "execution_count": 6,
     "metadata": {},
     "output_type": "execute_result"
    }
   ],
   "source": [
    "priority.pri_eigen(mat1, return_eigenval=True)"
   ]
  },
  {
   "cell_type": "code",
   "execution_count": 7,
   "metadata": {},
   "outputs": [
    {
     "data": {
      "text/plain": [
       "0.1058208274477563"
      ]
     },
     "execution_count": 7,
     "metadata": {},
     "output_type": "execute_result"
    }
   ],
   "source": [
    "priority.incon_std(mat1)  # Inconsistency measure"
   ]
  },
  {
   "cell_type": "markdown",
   "metadata": {},
   "source": [
    "#### Calculate the Eigenvector"
   ]
  },
  {
   "cell_type": "code",
   "execution_count": 8,
   "metadata": {},
   "outputs": [
    {
     "data": {
      "text/plain": [
       "array([0.05750144, 0.14488138, 0.72338425, 0.07423294])"
      ]
     },
     "execution_count": 8,
     "metadata": {},
     "output_type": "execute_result"
    }
   ],
   "source": [
    "priority.pri_eigen(mat1)    # Original Eigenvector"
   ]
  },
  {
   "cell_type": "code",
   "execution_count": 9,
   "metadata": {},
   "outputs": [
    {
     "data": {
      "text/plain": [
       "array([0.08516773, 0.10002445, 0.73546142, 0.0793464 ])"
      ]
     },
     "execution_count": 9,
     "metadata": {},
     "output_type": "execute_result"
    }
   ],
   "source": [
    "priority.pri_expeigen(mat1)     # Exponential Eigenvector Calc"
   ]
  },
  {
   "cell_type": "code",
   "execution_count": 11,
   "metadata": {},
   "outputs": [
    {
     "data": {
      "text/plain": [
       "array([0.05781584, 0.14718351, 0.71821576, 0.07678488])"
      ]
     },
     "execution_count": 11,
     "metadata": {},
     "output_type": "execute_result"
    }
   ],
   "source": [
    "priority.pri_llsm(mat1)      # Geometric Mean of Columns"
   ]
  },
  {
   "cell_type": "code",
   "execution_count": 13,
   "metadata": {},
   "outputs": [],
   "source": [
    "e_vec = pd.DataFrame(priority.pri_llsm(mat1))\n"
   ]
  },
  {
   "cell_type": "code",
   "execution_count": 14,
   "metadata": {},
   "outputs": [
    {
     "data": {
      "text/html": [
       "<div>\n",
       "<style scoped>\n",
       "    .dataframe tbody tr th:only-of-type {\n",
       "        vertical-align: middle;\n",
       "    }\n",
       "\n",
       "    .dataframe tbody tr th {\n",
       "        vertical-align: top;\n",
       "    }\n",
       "\n",
       "    .dataframe thead th {\n",
       "        text-align: right;\n",
       "    }\n",
       "</style>\n",
       "<table border=\"1\" class=\"dataframe\">\n",
       "  <thead>\n",
       "    <tr style=\"text-align: right;\">\n",
       "      <th></th>\n",
       "      <th>0</th>\n",
       "    </tr>\n",
       "  </thead>\n",
       "  <tbody>\n",
       "    <tr>\n",
       "      <th>0</th>\n",
       "      <td>0.057816</td>\n",
       "    </tr>\n",
       "    <tr>\n",
       "      <th>1</th>\n",
       "      <td>0.147184</td>\n",
       "    </tr>\n",
       "    <tr>\n",
       "      <th>2</th>\n",
       "      <td>0.718216</td>\n",
       "    </tr>\n",
       "    <tr>\n",
       "      <th>3</th>\n",
       "      <td>0.076785</td>\n",
       "    </tr>\n",
       "  </tbody>\n",
       "</table>\n",
       "</div>"
      ],
      "text/plain": [
       "          0\n",
       "0  0.057816\n",
       "1  0.147184\n",
       "2  0.718216\n",
       "3  0.076785"
      ]
     },
     "execution_count": 14,
     "metadata": {},
     "output_type": "execute_result"
    }
   ],
   "source": [
    "e_vec"
   ]
  },
  {
   "cell_type": "code",
   "execution_count": 21,
   "metadata": {},
   "outputs": [],
   "source": [
    "e_vec.columns = [\"Weights\"]\n",
    "e_vec.rename(index={0:\"BioStress\", 1:\"GDP\", 2:\"Public Health\", 3:\"Sunk Costs\"}, inplace=True)"
   ]
  },
  {
   "cell_type": "code",
   "execution_count": 22,
   "metadata": {},
   "outputs": [
    {
     "data": {
      "text/html": [
       "<div>\n",
       "<style scoped>\n",
       "    .dataframe tbody tr th:only-of-type {\n",
       "        vertical-align: middle;\n",
       "    }\n",
       "\n",
       "    .dataframe tbody tr th {\n",
       "        vertical-align: top;\n",
       "    }\n",
       "\n",
       "    .dataframe thead th {\n",
       "        text-align: right;\n",
       "    }\n",
       "</style>\n",
       "<table border=\"1\" class=\"dataframe\">\n",
       "  <thead>\n",
       "    <tr style=\"text-align: right;\">\n",
       "      <th></th>\n",
       "      <th>Weights</th>\n",
       "    </tr>\n",
       "  </thead>\n",
       "  <tbody>\n",
       "    <tr>\n",
       "      <th>BioStress</th>\n",
       "      <td>0.057816</td>\n",
       "    </tr>\n",
       "    <tr>\n",
       "      <th>GDP</th>\n",
       "      <td>0.147184</td>\n",
       "    </tr>\n",
       "    <tr>\n",
       "      <th>Public Health</th>\n",
       "      <td>0.718216</td>\n",
       "    </tr>\n",
       "    <tr>\n",
       "      <th>Sunk Costs</th>\n",
       "      <td>0.076785</td>\n",
       "    </tr>\n",
       "  </tbody>\n",
       "</table>\n",
       "</div>"
      ],
      "text/plain": [
       "                Weights\n",
       "BioStress      0.057816\n",
       "GDP            0.147184\n",
       "Public Health  0.718216\n",
       "Sunk Costs     0.076785"
      ]
     },
     "execution_count": 22,
     "metadata": {},
     "output_type": "execute_result"
    }
   ],
   "source": [
    "e_vec"
   ]
  },
  {
   "cell_type": "markdown",
   "metadata": {},
   "source": [
    "# Run AHP"
   ]
  },
  {
   "cell_type": "markdown",
   "metadata": {},
   "source": [
    "### Create new excel file with all actors' priorities inputed & alternatives ranked"
   ]
  },
  {
   "cell_type": "code",
   "execution_count": 83,
   "metadata": {},
   "outputs": [
    {
     "name": "stdout",
     "output_type": "stream",
     "text": [
      "Requirement already satisfied: pyanp in c:\\users\\louis\\anaconda3\\lib\\site-packages (0.3.1)\n",
      "Requirement already satisfied: numpy in c:\\users\\louis\\anaconda3\\lib\\site-packages (from pyanp) (1.14.3)\n",
      "Requirement already satisfied: pandas in c:\\users\\louis\\anaconda3\\lib\\site-packages (from pyanp) (0.25.3)\n",
      "Requirement already satisfied: python-dateutil>=2.6.1 in c:\\users\\louis\\anaconda3\\lib\\site-packages (from pandas->pyanp) (2.7.3)\n",
      "Requirement already satisfied: pytz>=2017.2 in c:\\users\\louis\\anaconda3\\lib\\site-packages (from pandas->pyanp) (2018.4)\n",
      "Requirement already satisfied: six>=1.5 in c:\\users\\louis\\anaconda3\\lib\\site-packages (from python-dateutil>=2.6.1->pandas->pyanp) (1.11.0)\n"
     ]
    }
   ],
   "source": [
    "! pip install pyanp\n",
    "import pyanp.ahptree as ahptree\n"
   ]
  },
  {
   "cell_type": "code",
   "execution_count": 84,
   "metadata": {},
   "outputs": [
    {
     "name": "stdout",
     "output_type": "stream",
     "text": [
      "Populating the interactive namespace from numpy and matplotlib\n"
     ]
    }
   ],
   "source": [
    "%pylab inline\n",
    "from IPython.display import HTML"
   ]
  },
  {
   "cell_type": "code",
   "execution_count": 85,
   "metadata": {},
   "outputs": [],
   "source": [
    "pylab.rcParams['figure.figsize'] = (12, 7.5)"
   ]
  },
  {
   "cell_type": "code",
   "execution_count": 115,
   "metadata": {},
   "outputs": [
    {
     "data": {
      "text/html": [
       "<ul>\n",
       "\t<li><b>Node:</b>Goal\n",
       "\t\t<ul>\n",
       "\t\t\t<li>0\n",
       "\t\t\t[[1.         0.33333333 0.14285714 0.5       ]\n",
       "\t\t\t [3.         1.         0.11111111 3.        ]\n",
       "\t\t\t [7.         9.         1.         9.        ]\n",
       "\t\t\t [2.         0.33333333 0.11111111 1.        ]]\n",
       "\t\t\t<li>1\n",
       "\t\t\t[[1.         0.33333333 0.14285714 0.5       ]\n",
       "\t\t\t [3.         1.         0.11111111 1.        ]\n",
       "\t\t\t [7.         9.         1.         9.        ]\n",
       "\t\t\t [2.         1.         0.11111111 1.        ]]\n",
       "\t\t\t<li>2\n",
       "\t\t\t[[1.         3.         1.         7.        ]\n",
       "\t\t\t [0.33333333 1.         0.11111111 1.        ]\n",
       "\t\t\t [1.         9.         1.         9.        ]\n",
       "\t\t\t [0.14285714 1.         0.11111111 1.        ]]\n",
       "\t\t</ul>\t<ul>\n",
       "\t\t<li><b>Node:</b>Bio\n",
       "\t\t\t<ul><li>AltScores=\n",
       "\t\t\t\tInvest Green    0.5\n",
       "\t\t\t\tInvest Grey     0.3\n",
       "\t\t\t\tBAU             0.1\n",
       "\t\t\t\tdtype: float64\n",
       "\t\t\t</ul>\n",
       "\t\t<li><b>Node:</b>GDP\n",
       "\t\t\t<ul><li>AltScores=\n",
       "\t\t\t\tInvest Green    0.20\n",
       "\t\t\t\tInvest Grey     0.30\n",
       "\t\t\t\tBAU             0.55\n",
       "\t\t\t\tdtype: float64\n",
       "\t\t\t</ul>\n",
       "\t\t<li><b>Node:</b>PH\n",
       "\t\t\t<ul><li>AltScores=\n",
       "\t\t\t\tInvest Green    0.25\n",
       "\t\t\t\tInvest Grey     0.25\n",
       "\t\t\t\tBAU             0.15\n",
       "\t\t\t\tdtype: float64\n",
       "\t\t\t</ul>\n",
       "\t\t<li><b>Node:</b>Costs\n",
       "\t\t\t<ul><li>AltScores=\n",
       "\t\t\t\tInvest Green    0.05\n",
       "\t\t\t\tInvest Grey     0.15\n",
       "\t\t\t\tBAU             0.20\n",
       "\t\t\t\tdtype: float64\n",
       "\t\t\t</ul>\n",
       "</ul>\n",
       "\n",
       "</ul>"
      ],
      "text/plain": [
       "<pyanp.ahptree.AHPTree at 0x8799830>"
      ]
     },
     "execution_count": 115,
     "metadata": {},
     "output_type": "execute_result"
    }
   ],
   "source": [
    "excel_file = 'AHPTreeData_2.xlsx'\n",
    "ahp = ahptree.ahptree_fromdf(excel_file)\n",
    "ahp"
   ]
  },
  {
   "cell_type": "code",
   "execution_count": 116,
   "metadata": {},
   "outputs": [
    {
     "data": {
      "text/plain": [
       "<matplotlib.axes._subplots.AxesSubplot at 0xae32bd0>"
      ]
     },
     "execution_count": 116,
     "metadata": {},
     "output_type": "execute_result"
    },
    {
     "data": {
      "image/png": "[encoded data removed]",
      "text/plain": [
       "<Figure size 864x540 with 1 Axes>"
      ]
     },
     "metadata": {},
     "output_type": "display_data"
    }
   ],
   "source": [
    "gs = ahp.global_priority_table()\n",
    "gs.plot(kind=\"bar\")\n",
    "\n",
    "### Criteria C which is Public health is the most important, Actor C (no.2) is the extreme green activist- highly prizes Biostress (A) and Public Health (C)"
   ]
  },
  {
   "cell_type": "code",
   "execution_count": 117,
   "metadata": {},
   "outputs": [
    {
     "data": {
      "text/html": [
       "<div>\n",
       "<style scoped>\n",
       "    .dataframe tbody tr th:only-of-type {\n",
       "        vertical-align: middle;\n",
       "    }\n",
       "\n",
       "    .dataframe tbody tr th {\n",
       "        vertical-align: top;\n",
       "    }\n",
       "\n",
       "    .dataframe thead th {\n",
       "        text-align: right;\n",
       "    }\n",
       "</style>\n",
       "<table border=\"1\" class=\"dataframe\">\n",
       "  <thead>\n",
       "    <tr style=\"text-align: right;\">\n",
       "      <th></th>\n",
       "      <th>Group</th>\n",
       "      <th>0</th>\n",
       "      <th>1</th>\n",
       "      <th>2</th>\n",
       "    </tr>\n",
       "  </thead>\n",
       "  <tbody>\n",
       "    <tr>\n",
       "      <th>Goal</th>\n",
       "      <td>1.000000</td>\n",
       "      <td>1.000000</td>\n",
       "      <td>1.000000</td>\n",
       "      <td>1.000000</td>\n",
       "    </tr>\n",
       "    <tr>\n",
       "      <th>Bio</th>\n",
       "      <td>0.115750</td>\n",
       "      <td>0.057501</td>\n",
       "      <td>0.059950</td>\n",
       "      <td>0.364025</td>\n",
       "    </tr>\n",
       "    <tr>\n",
       "      <th>GDP</th>\n",
       "      <td>0.114126</td>\n",
       "      <td>0.144881</td>\n",
       "      <td>0.112806</td>\n",
       "      <td>0.075382</td>\n",
       "    </tr>\n",
       "    <tr>\n",
       "      <th>PH</th>\n",
       "      <td>0.690075</td>\n",
       "      <td>0.723384</td>\n",
       "      <td>0.728763</td>\n",
       "      <td>0.502014</td>\n",
       "    </tr>\n",
       "    <tr>\n",
       "      <th>Costs</th>\n",
       "      <td>0.080050</td>\n",
       "      <td>0.074233</td>\n",
       "      <td>0.098481</td>\n",
       "      <td>0.058580</td>\n",
       "    </tr>\n",
       "  </tbody>\n",
       "</table>\n",
       "</div>"
      ],
      "text/plain": [
       "          Group         0         1         2\n",
       "Goal   1.000000  1.000000  1.000000  1.000000\n",
       "Bio    0.115750  0.057501  0.059950  0.364025\n",
       "GDP    0.114126  0.144881  0.112806  0.075382\n",
       "PH     0.690075  0.723384  0.728763  0.502014\n",
       "Costs  0.080050  0.074233  0.098481  0.058580"
      ]
     },
     "execution_count": 117,
     "metadata": {},
     "output_type": "execute_result"
    }
   ],
   "source": [
    "gs"
   ]
  },
  {
   "cell_type": "code",
   "execution_count": 118,
   "metadata": {},
   "outputs": [
    {
     "data": {
      "text/plain": [
       "pandas.core.frame.DataFrame"
      ]
     },
     "execution_count": 118,
     "metadata": {},
     "output_type": "execute_result"
    }
   ],
   "source": [
    "type(gs)"
   ]
  },
  {
   "cell_type": "code",
   "execution_count": 119,
   "metadata": {},
   "outputs": [],
   "source": [
    "gs.columns = [\"Grp\", \"Actor A\", \"Actor B\", \"Actor C\"]\n",
    "\n",
    "gs.rename(index={0: \" \", 1:\"BioStress\", 2:\"GDP\", 3:\"Public Health\", 4:\"Sunk Costs\"}, inplace=True)"
   ]
  },
  {
   "cell_type": "code",
   "execution_count": 120,
   "metadata": {},
   "outputs": [
    {
     "data": {
      "text/html": [
       "<div>\n",
       "<style scoped>\n",
       "    .dataframe tbody tr th:only-of-type {\n",
       "        vertical-align: middle;\n",
       "    }\n",
       "\n",
       "    .dataframe tbody tr th {\n",
       "        vertical-align: top;\n",
       "    }\n",
       "\n",
       "    .dataframe thead th {\n",
       "        text-align: right;\n",
       "    }\n",
       "</style>\n",
       "<table border=\"1\" class=\"dataframe\">\n",
       "  <thead>\n",
       "    <tr style=\"text-align: right;\">\n",
       "      <th></th>\n",
       "      <th>Grp</th>\n",
       "      <th>Actor A</th>\n",
       "      <th>Actor B</th>\n",
       "      <th>Actor C</th>\n",
       "    </tr>\n",
       "  </thead>\n",
       "  <tbody>\n",
       "    <tr>\n",
       "      <th>Goal</th>\n",
       "      <td>1.000000</td>\n",
       "      <td>1.000000</td>\n",
       "      <td>1.000000</td>\n",
       "      <td>1.000000</td>\n",
       "    </tr>\n",
       "    <tr>\n",
       "      <th>Bio</th>\n",
       "      <td>0.115750</td>\n",
       "      <td>0.057501</td>\n",
       "      <td>0.059950</td>\n",
       "      <td>0.364025</td>\n",
       "    </tr>\n",
       "    <tr>\n",
       "      <th>GDP</th>\n",
       "      <td>0.114126</td>\n",
       "      <td>0.144881</td>\n",
       "      <td>0.112806</td>\n",
       "      <td>0.075382</td>\n",
       "    </tr>\n",
       "    <tr>\n",
       "      <th>PH</th>\n",
       "      <td>0.690075</td>\n",
       "      <td>0.723384</td>\n",
       "      <td>0.728763</td>\n",
       "      <td>0.502014</td>\n",
       "    </tr>\n",
       "    <tr>\n",
       "      <th>Costs</th>\n",
       "      <td>0.080050</td>\n",
       "      <td>0.074233</td>\n",
       "      <td>0.098481</td>\n",
       "      <td>0.058580</td>\n",
       "    </tr>\n",
       "  </tbody>\n",
       "</table>\n",
       "</div>"
      ],
      "text/plain": [
       "            Grp   Actor A   Actor B   Actor C\n",
       "Goal   1.000000  1.000000  1.000000  1.000000\n",
       "Bio    0.115750  0.057501  0.059950  0.364025\n",
       "GDP    0.114126  0.144881  0.112806  0.075382\n",
       "PH     0.690075  0.723384  0.728763  0.502014\n",
       "Costs  0.080050  0.074233  0.098481  0.058580"
      ]
     },
     "execution_count": 120,
     "metadata": {},
     "output_type": "execute_result"
    }
   ],
   "source": [
    "gs"
   ]
  },
  {
   "cell_type": "code",
   "execution_count": 121,
   "metadata": {},
   "outputs": [
    {
     "data": {
      "text/plain": [
       "<matplotlib.axes._subplots.AxesSubplot at 0xb147db0>"
      ]
     },
     "execution_count": 121,
     "metadata": {},
     "output_type": "execute_result"
    },
    {
     "data": {
      "image/png": "[encoded data removed]",
      "text/plain": [
       "<Figure size 864x540 with 1 Axes>"
      ]
     },
     "metadata": {},
     "output_type": "display_data"
    }
   ],
   "source": [
    "altscores = ahp.priority_table()\n",
    "altscores.plot(kind=\"bar\")"
   ]
  },
  {
   "cell_type": "code",
   "execution_count": 123,
   "metadata": {},
   "outputs": [
    {
     "data": {
      "text/html": [
       "<div>\n",
       "<style scoped>\n",
       "    .dataframe tbody tr th:only-of-type {\n",
       "        vertical-align: middle;\n",
       "    }\n",
       "\n",
       "    .dataframe tbody tr th {\n",
       "        vertical-align: top;\n",
       "    }\n",
       "\n",
       "    .dataframe thead th {\n",
       "        text-align: right;\n",
       "    }\n",
       "</style>\n",
       "<table border=\"1\" class=\"dataframe\">\n",
       "  <thead>\n",
       "    <tr style=\"text-align: right;\">\n",
       "      <th></th>\n",
       "      <th>Group</th>\n",
       "      <th>0</th>\n",
       "      <th>1</th>\n",
       "      <th>2</th>\n",
       "    </tr>\n",
       "  </thead>\n",
       "  <tbody>\n",
       "    <tr>\n",
       "      <th>Invest Green</th>\n",
       "      <td>0.257221</td>\n",
       "      <td>0.242285</td>\n",
       "      <td>0.239651</td>\n",
       "      <td>0.325521</td>\n",
       "    </tr>\n",
       "    <tr>\n",
       "      <th>Invest Grey</th>\n",
       "      <td>0.253489</td>\n",
       "      <td>0.252696</td>\n",
       "      <td>0.248790</td>\n",
       "      <td>0.266112</td>\n",
       "    </tr>\n",
       "    <tr>\n",
       "      <th>BAU</th>\n",
       "      <td>0.193865</td>\n",
       "      <td>0.208789</td>\n",
       "      <td>0.197049</td>\n",
       "      <td>0.164880</td>\n",
       "    </tr>\n",
       "  </tbody>\n",
       "</table>\n",
       "</div>"
      ],
      "text/plain": [
       "                 Group         0         1         2\n",
       "Invest Green  0.257221  0.242285  0.239651  0.325521\n",
       "Invest Grey   0.253489  0.252696  0.248790  0.266112\n",
       "BAU           0.193865  0.208789  0.197049  0.164880"
      ]
     },
     "execution_count": 123,
     "metadata": {},
     "output_type": "execute_result"
    }
   ],
   "source": [
    "altscores"
   ]
  },
  {
   "cell_type": "code",
   "execution_count": 122,
   "metadata": {},
   "outputs": [
    {
     "data": {
      "text/html": [
       "<table border=\"1\" class=\"dataframe\">  <thead>    <tr style=\"text-align: right;\">      <th></th>      <th>Group</th>      <th>0</th>      <th>1</th>      <th>2</th>    </tr>  </thead>  <tbody>    <tr>      <th>Goal</th>      <td>0.054774</td>      <td>0.105821</td>      <td>0.069352</td>      <td>0.047475</td>    </tr>  </tbody></table>"
      ],
      "text/plain": [
       "<IPython.core.display.HTML object>"
      ]
     },
     "metadata": {},
     "output_type": "display_data"
    },
    {
     "data": {
      "image/png": "[encoded data removed]",
      "text/plain": [
       "<Figure size 864x540 with 1 Axes>"
      ]
     },
     "metadata": {},
     "output_type": "display_data"
    }
   ],
   "source": [
    "allincons = ahp.incond_std_table()\n",
    "display(HTML(allincons.to_html().replace('\\n','')))\n",
    "allincons.plot(kind=\"bar\")\n",
    "plt.show()"
   ]
  }
 ],
 "metadata": {
  "kernelspec": {
   "display_name": "Python 3",
   "language": "python",
   "name": "python3"
  },
  "language_info": {
   "codemirror_mode": {
    "name": "ipython",
    "version": 3
   },
   "file_extension": ".py",
   "mimetype": "text/x-python",
   "name": "python",
   "nbconvert_exporter": "python",
   "pygments_lexer": "ipython3",
   "version": "3.6.5"
  }
 },
 "nbformat": 4,
 "nbformat_minor": 2
}
